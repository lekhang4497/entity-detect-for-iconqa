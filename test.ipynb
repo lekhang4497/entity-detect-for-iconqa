{
 "cells": [
  {
   "cell_type": "code",
   "execution_count": 1,
   "metadata": {},
   "outputs": [
    {
     "name": "stderr",
     "output_type": "stream",
     "text": [
      "/home/khangln/miniconda3/envs/trans/lib/python3.8/site-packages/scipy/__init__.py:146: UserWarning: A NumPy version >=1.16.5 and <1.23.0 is required for this version of SciPy (detected version 1.23.1\n",
      "  warnings.warn(f\"A NumPy version >={np_minversion} and <{np_maxversion}\"\n",
      "/home/khangln/miniconda3/envs/trans/lib/python3.8/site-packages/tqdm/auto.py:22: TqdmWarning: IProgress not found. Please update jupyter and ipywidgets. See https://ipywidgets.readthedocs.io/en/stable/user_install.html\n",
      "  from .autonotebook import tqdm as notebook_tqdm\n"
     ]
    },
    {
     "name": "stdout",
     "output_type": "stream",
     "text": [
      "Load Icon classifier components\n",
      "loading pretrained models on icon data:  /home/khangln/JAIST_DRIVE/WORK/IconQA/saved_models/icon_classification_ckpt/icon_resnet101_LDAM_DRW_lr0.01_0/ckpt.epoch66_best.pth.tar\n"
     ]
    },
    {
     "name": "stderr",
     "output_type": "stream",
     "text": [
      "/home/khangln/miniconda3/envs/trans/lib/python3.8/site-packages/torchvision/models/_utils.py:208: UserWarning: The parameter 'pretrained' is deprecated since 0.13 and will be removed in 0.15, please use 'weights' instead.\n",
      "  warnings.warn(\n",
      "/home/khangln/miniconda3/envs/trans/lib/python3.8/site-packages/torchvision/models/_utils.py:223: UserWarning: Arguments other than a weight enum or `None` for 'weights' are deprecated since 0.13 and will be removed in 0.15. The current behavior is equivalent to passing `weights=None`.\n",
      "  warnings.warn(msg)\n"
     ]
    },
    {
     "name": "stdout",
     "output_type": "stream",
     "text": [
      "Finish loading Icon classifier components\n"
     ]
    }
   ],
   "source": [
    "from skimage import io\n",
    "import numpy as np\n",
    "from collections import deque\n",
    "from skimage.color import rgb2gray\n",
    "from PIL import Image, ImageOps\n",
    "from icon_classify import classify_img"
   ]
  },
  {
   "cell_type": "code",
   "execution_count": 10,
   "metadata": {},
   "outputs": [],
   "source": [
    "def bfs(img, r, c):\n",
    "    img[r, c] = -1\n",
    "    q = deque([(r, c)])\n",
    "    direction = [(-1, 0), (1, 0), (0, -1), (0, 1)]\n",
    "    top = left = right = bottom = None\n",
    "    while q:\n",
    "        cur_r, cur_c = q.popleft()\n",
    "        for d_r, d_c in direction:\n",
    "            n_r = cur_r + d_r\n",
    "            n_c = cur_c + d_c\n",
    "            if 0 <= n_r < img.shape[0] and 0 <= n_c < img.shape[1] and 1.0 > img[n_r, n_c] != -1:\n",
    "                img[n_r, n_c] = -1\n",
    "                # Update bounding box\n",
    "                if top is None or top > n_r:\n",
    "                    top = n_r\n",
    "                if bottom is None or bottom < n_r:\n",
    "                    bottom = n_r\n",
    "                if left is None or left > n_c:\n",
    "                    left = n_c\n",
    "                if right is None or right < n_c:\n",
    "                    right = n_c\n",
    "                q.append((n_r, n_c))\n",
    "    return top, left, bottom, right\n",
    "\n",
    "\n",
    "def count_region(img):\n",
    "    count = 0\n",
    "    for r in range(img.shape[0]):\n",
    "        for c in range(img.shape[1]):\n",
    "            if img[r, c] < 1.0 and img[r, c] != -1.0:\n",
    "                count += 1\n",
    "                bfs(img, r, c)\n",
    "    return count\n",
    "\n",
    "\n",
    "def extract_bbox(img):\n",
    "    ret = []\n",
    "    for r in range(img.shape[0]):\n",
    "        for c in range(img.shape[1]):\n",
    "            if img[r, c] < 1.0 and img[r, c] != -1.0:\n",
    "                top, left, bottom, right = bfs(img, r, c)\n",
    "                ret.append((top, left, bottom, right))\n",
    "    return ret"
   ]
  },
  {
   "cell_type": "code",
   "execution_count": 19,
   "metadata": {},
   "outputs": [],
   "source": [
    "def classify_all_entity(img_path):\n",
    "    ret = []\n",
    "    img = io.imread(img_path)\n",
    "    img = img[3:-3,3:-3]\n",
    "    img[np.logical_and(img[:,:,0] == 178, img[:,:,1] == 235, img[:,:,2] == 255)] = [255,255,255]\n",
    "    gimg = rgb2gray(img)\n",
    "    bboxs =  extract_bbox(gimg)\n",
    "    bboxs = [b for b in bboxs if abs(b[2]-b[0]+1)*abs(b[3]-b[1]) > 50]\n",
    "    for b in bboxs:\n",
    "        top, left, bottom, right = b\n",
    "        pi = Image.fromarray(img[top:bottom+1,left:right+1])\n",
    "        entity_class = classify_img(pi)\n",
    "        ret.append(entity_class)\n",
    "    return ret"
   ]
  },
  {
   "cell_type": "code",
   "execution_count": 28,
   "metadata": {},
   "outputs": [
    {
     "data": {
      "text/plain": [
       "['hat', 'house', 'house', 'house']"
      ]
     },
     "execution_count": 28,
     "metadata": {},
     "output_type": "execute_result"
    }
   ],
   "source": [
    "classify_all_entity('/home/khangln/JAIST_DRIVE/WORK/IconQA/filtered_icon/icon_counting/test/choose_img/104105/image.png')"
   ]
  },
  {
   "cell_type": "code",
   "execution_count": 14,
   "metadata": {},
   "outputs": [],
   "source": [
    "pi = Image.fromarray(img[top:bottom+1,left:right+1])"
   ]
  },
  {
   "cell_type": "code",
   "execution_count": 15,
   "metadata": {},
   "outputs": [
    {
     "data": {
      "image/png": "[encoded data removed]",
      "text/plain": [
       "<PIL.Image.Image image mode=RGB size=81x71>"
      ]
     },
     "execution_count": 15,
     "metadata": {},
     "output_type": "execute_result"
    }
   ],
   "source": [
    "pi"
   ]
  },
  {
   "cell_type": "code",
   "execution_count": 18,
   "metadata": {},
   "outputs": [
    {
     "data": {
      "text/plain": [
       "'bug'"
      ]
     },
     "execution_count": 18,
     "metadata": {},
     "output_type": "execute_result"
    }
   ],
   "source": [
    "classify_img(pi)"
   ]
  },
  {
   "cell_type": "code",
   "execution_count": 9,
   "metadata": {},
   "outputs": [],
   "source": [
    "img = io.imread('/home/khangln/JAIST_DRIVE/WORK/IconQA/filtered_icon/icon_counting/test/choose_img/51/choice_1.png')\n",
    "img = img[3:-3,3:-3]\n",
    "img[np.logical_and(img[:,:,0] == 178, img[:,:,1] == 235, img[:,:,2] == 255)] = [255,255,255]\n",
    "gimg = rgb2gray(img)"
   ]
  },
  {
   "cell_type": "code",
   "execution_count": 11,
   "metadata": {},
   "outputs": [],
   "source": [
    "bboxs =  extract_bbox(gimg)\n",
    "bboxs = [b for b in bboxs if abs(b[2]-b[0]+1)*abs(b[3]-b[1]) > 50]"
   ]
  },
  {
   "cell_type": "code",
   "execution_count": 12,
   "metadata": {},
   "outputs": [
    {
     "data": {
      "text/plain": [
       "[(25, 21, 95, 101), (25, 123, 95, 203)]"
      ]
     },
     "execution_count": 12,
     "metadata": {},
     "output_type": "execute_result"
    }
   ],
   "source": [
    "bboxs"
   ]
  },
  {
   "cell_type": "code",
   "execution_count": 60,
   "metadata": {},
   "outputs": [],
   "source": [
    "# # img = io.imread('/home/khangln/JAIST_DRIVE/WORK/IconQA/data/iconqa_data/iconqa/test/choose_img/26/image.png', as_gray=True)\n",
    "# img=io.imread('/home/khangln/JAIST_DRIVE/WORK/IconQA/filtered_icon/icon_counting/test/choose_img/51/choice_1.png', as_gray=True)\n",
    "# t = np.copy(img)[10:-10, 10:-10]\n",
    "# bboxs =  count_region(t)"
   ]
  },
  {
   "cell_type": "code",
   "execution_count": 13,
   "metadata": {},
   "outputs": [
    {
     "data": {
      "text/plain": [
       "<matplotlib.image.AxesImage at 0x7f79f47f6eb0>"
      ]
     },
     "execution_count": 13,
     "metadata": {},
     "output_type": "execute_result"
    },
    {
     "data": {
      "image/png": "[encoded data removed]",
      "text/plain": [
       "<Figure size 432x288 with 1 Axes>"
      ]
     },
     "metadata": {
      "needs_background": "light"
     },
     "output_type": "display_data"
    }
   ],
   "source": [
    "top, left, bottom, right = bboxs[1]\n",
    "# img = io.imread('/home/khangln/JAIST_DRIVE/WORK/IconQA/data/iconqa_data/iconqa/test/choose_img/26/image.png', as_gray=True)\n",
    "io.imshow(img[top:bottom+1,left:right+1])"
   ]
  },
  {
   "cell_type": "code",
   "execution_count": 71,
   "metadata": {},
   "outputs": [
    {
     "data": {
      "text/plain": [
       "array([[1., 1., 1., ..., 1., 1., 1.],\n",
       "       [1., 1., 1., ..., 1., 1., 1.],\n",
       "       [1., 1., 1., ..., 1., 1., 1.],\n",
       "       ...,\n",
       "       [1., 1., 1., ..., 1., 1., 1.],\n",
       "       [1., 1., 1., ..., 1., 1., 1.],\n",
       "       [1., 1., 1., ..., 1., 1., 1.]])"
      ]
     },
     "execution_count": 71,
     "metadata": {},
     "output_type": "execute_result"
    }
   ],
   "source": [
    "rgb2gray(img[top:bottom+1,left:right+1])"
   ]
  },
  {
   "cell_type": "code",
   "execution_count": 70,
   "metadata": {},
   "outputs": [],
   "source": [
    "img=io.imread('/home/khangln/JAIST_DRIVE/WORK/IconQA/filtered_icon/icon_counting/test/choose_img/51/choice_1.png', as_gray=True)\n"
   ]
  },
  {
   "cell_type": "code",
   "execution_count": 71,
   "metadata": {},
   "outputs": [
    {
     "data": {
      "text/plain": [
       "<matplotlib.image.AxesImage at 0x7f3ffdff37f0>"
      ]
     },
     "execution_count": 71,
     "metadata": {},
     "output_type": "execute_result"
    },
    {
     "data": {
      "image/png": "[encoded data removed]",
      "text/plain": [
       "<Figure size 432x288 with 1 Axes>"
      ]
     },
     "metadata": {
      "needs_background": "light"
     },
     "output_type": "display_data"
    }
   ],
   "source": [
    "io.imshow(img)"
   ]
  },
  {
   "cell_type": "code",
   "execution_count": 72,
   "metadata": {},
   "outputs": [
    {
     "data": {
      "text/plain": [
       "array([[0.        , 0.        , 0.        , ..., 0.        , 0.        ,\n",
       "        0.        ],\n",
       "       [0.        , 0.        , 0.        , ..., 0.        , 0.        ,\n",
       "        0.        ],\n",
       "       [0.        , 0.99999994, 0.99999994, ..., 0.96400034, 0.        ,\n",
       "        0.        ],\n",
       "       ...,\n",
       "       [0.        , 0.99999994, 0.99999994, ..., 0.9648337 , 0.        ,\n",
       "        0.        ],\n",
       "       [0.        , 0.        , 0.        , ..., 0.        , 0.        ,\n",
       "        0.        ],\n",
       "       [0.        , 0.        , 0.        , ..., 0.        , 0.        ,\n",
       "        0.        ]], dtype=float32)"
      ]
     },
     "execution_count": 72,
     "metadata": {},
     "output_type": "execute_result"
    }
   ],
   "source": [
    "img"
   ]
  },
  {
   "cell_type": "code",
   "execution_count": 67,
   "metadata": {},
   "outputs": [],
   "source": [
    "def count_region_of_img(img_path):\n",
    "    img = io.imread(img_path, as_gray=True)\n",
    "    t = np.copy(img)[10:-10, 10:-10]\n",
    "    return count_region(t)"
   ]
  },
  {
   "cell_type": "code",
   "execution_count": 68,
   "metadata": {},
   "outputs": [
    {
     "data": {
      "text/plain": [
       "1"
      ]
     },
     "execution_count": 68,
     "metadata": {},
     "output_type": "execute_result"
    }
   ],
   "source": [
    "count_region_of_img('/home/khangln/JAIST_DRIVE/WORK/IconQA/filtered_icon/icon_counting/test/choose_img/51/choice_1.png')"
   ]
  },
  {
   "cell_type": "code",
   "execution_count": 69,
   "metadata": {},
   "outputs": [
    {
     "data": {
      "text/plain": [
       "array([[0.        , 0.        , 0.        , ..., 0.        , 0.        ,\n",
       "        0.        ],\n",
       "       [0.        , 0.        , 0.        , ..., 0.        , 0.        ,\n",
       "        0.        ],\n",
       "       [0.        , 0.99999994, 0.99999994, ..., 0.96400034, 0.        ,\n",
       "        0.        ],\n",
       "       ...,\n",
       "       [0.        , 0.99999994, 0.99999994, ..., 0.9648337 , 0.        ,\n",
       "        0.        ],\n",
       "       [0.        , 0.        , 0.        , ..., 0.        , 0.        ,\n",
       "        0.        ],\n",
       "       [0.        , 0.        , 0.        , ..., 0.        , 0.        ,\n",
       "        0.        ]], dtype=float32)"
      ]
     },
     "execution_count": 69,
     "metadata": {},
     "output_type": "execute_result"
    }
   ],
   "source": [
    "img"
   ]
  },
  {
   "cell_type": "code",
   "execution_count": 73,
   "metadata": {},
   "outputs": [
    {
     "data": {
      "text/plain": [
       "{'matplotlib': ['imshow', 'imread', 'imshow_collection', 'imread_collection'],\n",
       " 'fits': ['imread', 'imread_collection'],\n",
       " 'imageio': ['imread', 'imsave', 'imread_collection'],\n",
       " 'gdal': ['imread', 'imread_collection'],\n",
       " 'gtk': ['imshow'],\n",
       " 'simpleitk': ['imread', 'imsave', 'imread_collection'],\n",
       " 'tifffile': ['imread', 'imsave', 'imread_collection'],\n",
       " 'pil': ['imread', 'imsave', 'imread_collection'],\n",
       " 'qt': ['imshow', 'imsave', 'imread', 'imread_collection'],\n",
       " 'imread': ['imread', 'imsave', 'imread_collection']}"
      ]
     },
     "execution_count": 73,
     "metadata": {},
     "output_type": "execute_result"
    }
   ],
   "source": [
    "io.available_plugins"
   ]
  },
  {
   "cell_type": "code",
   "execution_count": 1,
   "metadata": {},
   "outputs": [
    {
     "name": "stderr",
     "output_type": "stream",
     "text": [
      "/home/khangln/miniconda3/envs/trans/lib/python3.8/site-packages/scipy/__init__.py:146: UserWarning: A NumPy version >=1.16.5 and <1.23.0 is required for this version of SciPy (detected version 1.23.1\n",
      "  warnings.warn(f\"A NumPy version >={np_minversion} and <{np_maxversion}\"\n",
      "/home/khangln/miniconda3/envs/trans/lib/python3.8/site-packages/tqdm/auto.py:22: TqdmWarning: IProgress not found. Please update jupyter and ipywidgets. See https://ipywidgets.readthedocs.io/en/stable/user_install.html\n",
      "  from .autonotebook import tqdm as notebook_tqdm\n"
     ]
    },
    {
     "name": "stdout",
     "output_type": "stream",
     "text": [
      "Load Icon classifier components\n",
      "loading pretrained models on icon data:  /home/khangln/JAIST_DRIVE/WORK/IconQA/saved_models/icon_classification_ckpt/icon_resnet101_LDAM_DRW_lr0.01_0/ckpt.epoch66_best.pth.tar\n"
     ]
    },
    {
     "name": "stderr",
     "output_type": "stream",
     "text": [
      "/home/khangln/miniconda3/envs/trans/lib/python3.8/site-packages/torchvision/models/_utils.py:208: UserWarning: The parameter 'pretrained' is deprecated since 0.13 and will be removed in 0.15, please use 'weights' instead.\n",
      "  warnings.warn(\n",
      "/home/khangln/miniconda3/envs/trans/lib/python3.8/site-packages/torchvision/models/_utils.py:223: UserWarning: Arguments other than a weight enum or `None` for 'weights' are deprecated since 0.13 and will be removed in 0.15. The current behavior is equivalent to passing `weights=None`.\n",
      "  warnings.warn(msg)\n"
     ]
    },
    {
     "name": "stdout",
     "output_type": "stream",
     "text": [
      "Finish loading Icon classifier components\n"
     ]
    }
   ],
   "source": [
    "from extract_entity import classify_all_entity"
   ]
  },
  {
   "cell_type": "code",
   "execution_count": 2,
   "metadata": {},
   "outputs": [],
   "source": [
    "a,b = classify_all_entity('/home/khangln/JAIST_DRIVE/WORK/IconQA/data/iconqa_data/iconqa/test/choose_img/42/image.png')"
   ]
  },
  {
   "cell_type": "code",
   "execution_count": 7,
   "metadata": {},
   "outputs": [
    {
     "data": {
      "image/png": "[encoded data removed]",
      "text/plain": [
       "<PIL.Image.Image image mode=RGB size=14x11>"
      ]
     },
     "execution_count": 7,
     "metadata": {},
     "output_type": "execute_result"
    }
   ],
   "source": [
    "b[7]"
   ]
  },
  {
   "cell_type": "code",
   "execution_count": 8,
   "metadata": {},
   "outputs": [
    {
     "data": {
      "text/plain": [
       "(16, 12)"
      ]
     },
     "execution_count": 8,
     "metadata": {},
     "output_type": "execute_result"
    }
   ],
   "source": [
    "b[6].size"
   ]
  },
  {
   "cell_type": "code",
   "execution_count": 3,
   "metadata": {},
   "outputs": [
    {
     "data": {
      "text/plain": [
       "['spoon',\n",
       " 'jar',\n",
       " 'clock',\n",
       " 'tape',\n",
       " 'shirt',\n",
       " 'house',\n",
       " 'house',\n",
       " 'house',\n",
       " 'house',\n",
       " 'house',\n",
       " 'car',\n",
       " 'house',\n",
       " 'house',\n",
       " 'sign']"
      ]
     },
     "execution_count": 3,
     "metadata": {},
     "output_type": "execute_result"
    }
   ],
   "source": [
    "a"
   ]
  },
  {
   "cell_type": "code",
   "execution_count": 11,
   "metadata": {},
   "outputs": [],
   "source": [
    "import glob\n",
    "import json\n",
    "from tqdm import tqdm"
   ]
  },
  {
   "cell_type": "code",
   "execution_count": 12,
   "metadata": {},
   "outputs": [
    {
     "name": "stderr",
     "output_type": "stream",
     "text": [
      "100%|██████████| 34603/34603 [02:20<00:00, 245.80it/s]\n"
     ]
    }
   ],
   "source": [
    "m = 0\n",
    "for t in tqdm(glob.glob('/home/khangln/JAIST_DRIVE/WORK/IconQA/data/iconqa_data/iconqa/train/choose_img/*/data.json')):\n",
    "    with open(t) as f:\n",
    "        d = json.load(f)\n",
    "        m = max(m, len(d['choices']))"
   ]
  },
  {
   "cell_type": "code",
   "execution_count": 13,
   "metadata": {},
   "outputs": [
    {
     "data": {
      "text/plain": [
       "5"
      ]
     },
     "execution_count": 13,
     "metadata": {},
     "output_type": "execute_result"
    }
   ],
   "source": [
    "m"
   ]
  },
  {
   "cell_type": "code",
   "execution_count": null,
   "metadata": {},
   "outputs": [],
   "source": []
  }
 ],
 "metadata": {
  "kernelspec": {
   "display_name": "Python 3.8.12 ('trans')",
   "language": "python",
   "name": "python3"
  },
  "language_info": {
   "codemirror_mode": {
    "name": "ipython",
    "version": 3
   },
   "file_extension": ".py",
   "mimetype": "text/x-python",
   "name": "python",
   "nbconvert_exporter": "python",
   "pygments_lexer": "ipython3",
   "version": "3.8.13"
  },
  "orig_nbformat": 4,
  "vscode": {
   "interpreter": {
    "hash": "5247ea9e83cb170e46698666000216a15074bd9959b49fc172c3097f737d70eb"
   }
  }
 },
 "nbformat": 4,
 "nbformat_minor": 2
}
